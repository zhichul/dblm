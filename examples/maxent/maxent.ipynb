{
 "cells": [
  {
   "cell_type": "code",
   "execution_count": 1,
   "id": "c335cc00-dc3e-41f9-b013-249fe9a5aa65",
   "metadata": {},
   "outputs": [],
   "source": [
    "%load_ext autoreload\n",
    "%autoreload 2"
   ]
  },
  {
   "cell_type": "code",
   "execution_count": 9,
   "id": "caccf598-4a59-4d4c-b360-5c7237938dae",
   "metadata": {},
   "outputs": [],
   "source": [
    "import torch\n",
    "import itertools"
   ]
  },
  {
   "cell_type": "code",
   "execution_count": 3,
   "id": "0770934d-cb8a-4c94-9239-879ecf252060",
   "metadata": {},
   "outputs": [
    {
     "name": "stderr",
     "output_type": "stream",
     "text": [
      "                  \r"
     ]
    }
   ],
   "source": [
    "from dblm.rva.discrete.tree_belief_propagation import TreeBeliefPropagation\n",
    "adjacency_matrix = torch.tensor([\n",
    "    [1,0,0,0],\n",
    "    [1,1,0,0],\n",
    "    [1,0,1,0],\n",
    "    [0,0,1,1]\n",
    "])\n",
    "f1 = torch.log(torch.tensor(\n",
    "    [0.1,0.3,0.2,0.1,0.05,0.0,0.0,0.25] + [0.1,0.3,0.2,0.1,0.05,0.0,0.0,0.25]\n",
    ")).reshape(2,2,2,2)\n",
    "f2 = torch.log(torch.tensor(\n",
    "    [1, 1.] + [1, 3.]\n",
    ")).reshape(2,2 )\n",
    "f3 = torch.log(torch.tensor(\n",
    "    [4, 1., 1., 4] + [4, 1., 1., 4]\n",
    ")).reshape(2,2,2)\n",
    "f4 = torch.log(torch.tensor(\n",
    "    [2 * 1.3, 8 * 1.3] + [2 * 1.3, 8 * 1.3]\n",
    ")).reshape(2, 2)\n",
    "tbp = TreeBeliefPropagation()\n",
    "log_phis = [f1, f2, f3, f4]\n",
    "nvals = [2,2,2,2]\n",
    "results = tbp.infer(adjacency_matrix, nvals, log_phis)\n",
    "m = tbp.marginals(results)\n",
    "logZ = tbp.log_partition(adjacency_matrix, log_phis, results)"
   ]
  },
  {
   "cell_type": "code",
   "execution_count": 4,
   "id": "b04f16c8-fe65-433f-b14a-9ec5bf56b6c0",
   "metadata": {},
   "outputs": [],
   "source": [
    "ent = tbp.entropy(adjacency_matrix, log_phis, results)\n",
    "marginals_factors = tbp.marginals_factors(adjacency_matrix, log_phis, results)"
   ]
  },
  {
   "cell_type": "code",
   "execution_count": 5,
   "id": "fdc26544-3ae0-4e06-a39e-e359b0fab9c9",
   "metadata": {},
   "outputs": [],
   "source": [
    "logZ = ent + sum((marginals_factors[i].exp() * (log_phis[i]).clamp(-1e10)).reshape(ent.size(0), -1).sum(-1) for i in range(len(marginals_factors)))"
   ]
  },
  {
   "cell_type": "code",
   "execution_count": 13,
   "id": "9d4d7b59-76d4-4cc5-9861-4271fa01c631",
   "metadata": {},
   "outputs": [
    {
     "name": "stdout",
     "output_type": "stream",
     "text": [
      "tensor([3.5838, 4.3211]) tensor(3.5838)\n"
     ]
    }
   ],
   "source": [
    "logps=[]\n",
    "for a,b,c,d in itertools.product(*([0,1] for _ in range(4))):\n",
    "     logps.append(tbp.energy(adjacency_matrix, nvals, [log_phi[0] for log_phi in log_phis], torch.tensor([[a,b,c,d]])))\n",
    "logZ1 = torch.cat(logps).logsumexp(-1)\n",
    "print(logZ,logZ1)"
   ]
  },
  {
   "cell_type": "code",
   "execution_count": 7,
   "id": "d1044437-6e7b-4b73-89e9-c47e8d709d05",
   "metadata": {},
   "outputs": [
    {
     "data": {
      "text/plain": [
       "[]"
      ]
     },
     "execution_count": 7,
     "metadata": {},
     "output_type": "execute_result"
    }
   ],
   "source": [
    "list([log_phi[0] for log_phi in log_phis][0].size()[:-adjacency_matrix[:,0].sum().item()])"
   ]
  }
 ],
 "metadata": {
  "kernelspec": {
   "display_name": "dl23",
   "language": "python",
   "name": "dl23"
  },
  "language_info": {
   "codemirror_mode": {
    "name": "ipython",
    "version": 3
   },
   "file_extension": ".py",
   "mimetype": "text/x-python",
   "name": "python",
   "nbconvert_exporter": "python",
   "pygments_lexer": "ipython3",
   "version": "3.11.3"
  }
 },
 "nbformat": 4,
 "nbformat_minor": 5
}
